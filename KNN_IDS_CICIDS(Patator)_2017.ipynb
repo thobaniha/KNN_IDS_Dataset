{
 "cells": [
  {
   "cell_type": "code",
   "execution_count": 5,
   "id": "13bc3d61",
   "metadata": {},
   "outputs": [],
   "source": [
    "import numpy as np\n",
    "import pandas as pd"
   ]
  },
  {
   "cell_type": "code",
   "execution_count": 6,
   "id": "4c41da7f",
   "metadata": {},
   "outputs": [
    {
     "data": {
      "text/html": [
       "<div>\n",
       "<style scoped>\n",
       "    .dataframe tbody tr th:only-of-type {\n",
       "        vertical-align: middle;\n",
       "    }\n",
       "\n",
       "    .dataframe tbody tr th {\n",
       "        vertical-align: top;\n",
       "    }\n",
       "\n",
       "    .dataframe thead th {\n",
       "        text-align: right;\n",
       "    }\n",
       "</style>\n",
       "<table border=\"1\" class=\"dataframe\">\n",
       "  <thead>\n",
       "    <tr style=\"text-align: right;\">\n",
       "      <th></th>\n",
       "      <th>Destination Port</th>\n",
       "      <th>Flow Duration</th>\n",
       "      <th>Total Fwd Packets</th>\n",
       "      <th>Total Backward Packets</th>\n",
       "      <th>Total Length of Fwd Packets</th>\n",
       "      <th>Total Length of Bwd Packets</th>\n",
       "      <th>Fwd Packet Length Max</th>\n",
       "      <th>Fwd Packet Length Min</th>\n",
       "      <th>Fwd Packet Length Mean</th>\n",
       "      <th>Fwd Packet Length Std</th>\n",
       "      <th>...</th>\n",
       "      <th>min_seg_size_forward</th>\n",
       "      <th>Active Mean</th>\n",
       "      <th>Active Std</th>\n",
       "      <th>Active Max</th>\n",
       "      <th>Active Min</th>\n",
       "      <th>Idle Mean</th>\n",
       "      <th>Idle Std</th>\n",
       "      <th>Idle Max</th>\n",
       "      <th>Idle Min</th>\n",
       "      <th>Label</th>\n",
       "    </tr>\n",
       "  </thead>\n",
       "  <tbody>\n",
       "    <tr>\n",
       "      <th>0</th>\n",
       "      <td>88</td>\n",
       "      <td>640</td>\n",
       "      <td>7</td>\n",
       "      <td>4</td>\n",
       "      <td>440</td>\n",
       "      <td>358</td>\n",
       "      <td>220</td>\n",
       "      <td>0</td>\n",
       "      <td>62.857143</td>\n",
       "      <td>107.349008</td>\n",
       "      <td>...</td>\n",
       "      <td>20</td>\n",
       "      <td>0.0</td>\n",
       "      <td>0.0</td>\n",
       "      <td>0</td>\n",
       "      <td>0</td>\n",
       "      <td>0.0</td>\n",
       "      <td>0.0</td>\n",
       "      <td>0</td>\n",
       "      <td>0</td>\n",
       "      <td>BENIGN</td>\n",
       "    </tr>\n",
       "    <tr>\n",
       "      <th>1</th>\n",
       "      <td>88</td>\n",
       "      <td>900</td>\n",
       "      <td>9</td>\n",
       "      <td>4</td>\n",
       "      <td>600</td>\n",
       "      <td>2944</td>\n",
       "      <td>300</td>\n",
       "      <td>0</td>\n",
       "      <td>66.666667</td>\n",
       "      <td>132.287566</td>\n",
       "      <td>...</td>\n",
       "      <td>20</td>\n",
       "      <td>0.0</td>\n",
       "      <td>0.0</td>\n",
       "      <td>0</td>\n",
       "      <td>0</td>\n",
       "      <td>0.0</td>\n",
       "      <td>0.0</td>\n",
       "      <td>0</td>\n",
       "      <td>0</td>\n",
       "      <td>BENIGN</td>\n",
       "    </tr>\n",
       "    <tr>\n",
       "      <th>2</th>\n",
       "      <td>88</td>\n",
       "      <td>1205</td>\n",
       "      <td>7</td>\n",
       "      <td>4</td>\n",
       "      <td>2776</td>\n",
       "      <td>2830</td>\n",
       "      <td>1388</td>\n",
       "      <td>0</td>\n",
       "      <td>396.571429</td>\n",
       "      <td>677.274651</td>\n",
       "      <td>...</td>\n",
       "      <td>20</td>\n",
       "      <td>0.0</td>\n",
       "      <td>0.0</td>\n",
       "      <td>0</td>\n",
       "      <td>0</td>\n",
       "      <td>0.0</td>\n",
       "      <td>0.0</td>\n",
       "      <td>0</td>\n",
       "      <td>0</td>\n",
       "      <td>BENIGN</td>\n",
       "    </tr>\n",
       "  </tbody>\n",
       "</table>\n",
       "<p>3 rows × 79 columns</p>\n",
       "</div>"
      ],
      "text/plain": [
       "    Destination Port   Flow Duration   Total Fwd Packets  \\\n",
       "0                 88             640                   7   \n",
       "1                 88             900                   9   \n",
       "2                 88            1205                   7   \n",
       "\n",
       "    Total Backward Packets  Total Length of Fwd Packets  \\\n",
       "0                        4                          440   \n",
       "1                        4                          600   \n",
       "2                        4                         2776   \n",
       "\n",
       "    Total Length of Bwd Packets   Fwd Packet Length Max  \\\n",
       "0                           358                     220   \n",
       "1                          2944                     300   \n",
       "2                          2830                    1388   \n",
       "\n",
       "    Fwd Packet Length Min   Fwd Packet Length Mean   Fwd Packet Length Std  \\\n",
       "0                       0                62.857143              107.349008   \n",
       "1                       0                66.666667              132.287566   \n",
       "2                       0               396.571429              677.274651   \n",
       "\n",
       "   ...   min_seg_size_forward  Active Mean   Active Std   Active Max  \\\n",
       "0  ...                     20          0.0          0.0            0   \n",
       "1  ...                     20          0.0          0.0            0   \n",
       "2  ...                     20          0.0          0.0            0   \n",
       "\n",
       "    Active Min  Idle Mean   Idle Std   Idle Max   Idle Min   Label  \n",
       "0            0        0.0        0.0          0          0  BENIGN  \n",
       "1            0        0.0        0.0          0          0  BENIGN  \n",
       "2            0        0.0        0.0          0          0  BENIGN  \n",
       "\n",
       "[3 rows x 79 columns]"
      ]
     },
     "execution_count": 6,
     "metadata": {},
     "output_type": "execute_result"
    }
   ],
   "source": [
    "#col_names = [\"DestinationPort\",\"FlowDuration\",\"TotalFwdPackets\",\"TotalBackwardPackets\",\"TotalLengthofFwdPackets\",\"TotalLengthofBwdPackets\",\"FwdPacketLengthMax\",\"FwdPacketLengthMin\",\"FwdPacketLengthMean\",\"FwdPacketLengthStd\",\"BwdPacketLengthMax\",\"BwdPacketLengthMin\",\"BwdPacketLengthMean\",\"BwdPacketLengthStd\",\"FlowBytes/s\",\"FlowPackets/s\",\"FlowIATMean\",\"FlowIATStd\",\"FlowIATMax\",\"FlowIATMin\",\"FwdIATTotal\",\"FwdIATMean\",\"FwdIATStd\",\"FwdIATMax\",\"FwdIATMin\",\"BwdIATTotal\",\"BwdIATMean\",\"BwdIATStd\",\"BwdIATMax\",\"BwdIATMin\",\"FwdPSHFlags\",\"BwdPSHFlags\",\"FwdURGFlags\",\"BwdURGFlags\",\"FwdHeaderLength\",\"BwdHeaderLength\",\"FwdPackets/s\",\"BwdPackets/s\",\"MinPacketLength\",\"MaxPacketLength\",\"PacketLengthMean\",\"PacketLengthStd\",\"PacketLengthVariance\",\"FINFlagCount\",\"SYNFlagCount\",\"RSTFlagCount\",\"PSHFlagCount\",\"ACKFlagCount\",\"URGFlagCount\",\"CWEFlagCount\",\"ECEFlagCount\",\"Down/UpRatio\",\"AveragePacketSize\",\"AvgFwdSegmentSize\",\"AvgBwdSegmentSize\",\"FwdHeaderLength\",\"FwdAvgBytes/Bulk\",\"FwdAvgPackets/Bulk\",\"FwdAvgBulkRate\",\"BwdAvgBytes/Bulk\",\"BwdAvgPackets/Bulk\",\"BwdAvgBulkRate\",\"SubflowFwdPackets\",\"SubflowFwdBytes\",\"SubflowBwdPackets\",\"SubflowBwdBytes\",\"Init_Win_bytes_forward\",\"Init_Win_bytes_backward\",\"act_data_pkt_fwd\",\"min_seg_size_forward\",\"ActiveMean\",\"ActiveStd\",\"ActiveMax\",\"ActiveMin\",\"IdleMean\",\"IdleStd\",\"IdleMax\",\"IdleMin\",\"Label\"]\n",
    "data = pd.read_csv('Tuesday-WorkingHours.pcap_ISCX.csv', sep=\",\")#names=col_names)\n",
    "data.head(3)0"
   ]
  },
  {
   "cell_type": "code",
   "execution_count": 9,
   "id": "9f22c718",
   "metadata": {},
   "outputs": [
    {
     "name": "stdout",
     "output_type": "stream",
     "text": [
      " 1    432074\n",
      " 0      7938\n",
      "-1      5897\n",
      "Name:  Label, dtype: int64\n"
     ]
    },
    {
     "name": "stderr",
     "output_type": "stream",
     "text": [
      "C:\\Users\\THOBAN~1\\AppData\\Local\\Temp/ipykernel_22020/3432617939.py:3: SettingWithCopyWarning: \n",
      "A value is trying to be set on a copy of a slice from a DataFrame\n",
      "\n",
      "See the caveats in the documentation: https://pandas.pydata.org/pandas-docs/stable/user_guide/indexing.html#returning-a-view-versus-a-copy\n",
      "  data.iloc[:,78][data.iloc[:,78] == 'BENIGN'] = 1\n",
      "C:\\Users\\THOBAN~1\\AppData\\Local\\Temp/ipykernel_22020/3432617939.py:4: SettingWithCopyWarning: \n",
      "A value is trying to be set on a copy of a slice from a DataFrame\n",
      "\n",
      "See the caveats in the documentation: https://pandas.pydata.org/pandas-docs/stable/user_guide/indexing.html#returning-a-view-versus-a-copy\n",
      "  data.iloc[:,78][data.iloc[:,78] == 'FTP-Patator'] = 0\n",
      "C:\\Users\\THOBAN~1\\AppData\\Local\\Temp/ipykernel_22020/3432617939.py:5: SettingWithCopyWarning: \n",
      "A value is trying to be set on a copy of a slice from a DataFrame\n",
      "\n",
      "See the caveats in the documentation: https://pandas.pydata.org/pandas-docs/stable/user_guide/indexing.html#returning-a-view-versus-a-copy\n",
      "  data.iloc[:,78][data.iloc[:,78] == 'SSH-Patator'] = -1\n"
     ]
    },
    {
     "data": {
      "text/html": [
       "<div>\n",
       "<style scoped>\n",
       "    .dataframe tbody tr th:only-of-type {\n",
       "        vertical-align: middle;\n",
       "    }\n",
       "\n",
       "    .dataframe tbody tr th {\n",
       "        vertical-align: top;\n",
       "    }\n",
       "\n",
       "    .dataframe thead th {\n",
       "        text-align: right;\n",
       "    }\n",
       "</style>\n",
       "<table border=\"1\" class=\"dataframe\">\n",
       "  <thead>\n",
       "    <tr style=\"text-align: right;\">\n",
       "      <th></th>\n",
       "      <th>Destination Port</th>\n",
       "      <th>Flow Duration</th>\n",
       "      <th>Total Fwd Packets</th>\n",
       "      <th>Total Backward Packets</th>\n",
       "      <th>Total Length of Fwd Packets</th>\n",
       "      <th>Total Length of Bwd Packets</th>\n",
       "      <th>Fwd Packet Length Max</th>\n",
       "      <th>Fwd Packet Length Min</th>\n",
       "      <th>Fwd Packet Length Mean</th>\n",
       "      <th>Fwd Packet Length Std</th>\n",
       "      <th>...</th>\n",
       "      <th>min_seg_size_forward</th>\n",
       "      <th>Active Mean</th>\n",
       "      <th>Active Std</th>\n",
       "      <th>Active Max</th>\n",
       "      <th>Active Min</th>\n",
       "      <th>Idle Mean</th>\n",
       "      <th>Idle Std</th>\n",
       "      <th>Idle Max</th>\n",
       "      <th>Idle Min</th>\n",
       "      <th>Label</th>\n",
       "    </tr>\n",
       "  </thead>\n",
       "  <tbody>\n",
       "    <tr>\n",
       "      <th>0</th>\n",
       "      <td>88</td>\n",
       "      <td>640</td>\n",
       "      <td>7</td>\n",
       "      <td>4</td>\n",
       "      <td>440</td>\n",
       "      <td>358</td>\n",
       "      <td>220</td>\n",
       "      <td>0</td>\n",
       "      <td>62.857143</td>\n",
       "      <td>107.349008</td>\n",
       "      <td>...</td>\n",
       "      <td>20</td>\n",
       "      <td>0.0</td>\n",
       "      <td>0.0</td>\n",
       "      <td>0</td>\n",
       "      <td>0</td>\n",
       "      <td>0.0</td>\n",
       "      <td>0.0</td>\n",
       "      <td>0</td>\n",
       "      <td>0</td>\n",
       "      <td>1</td>\n",
       "    </tr>\n",
       "    <tr>\n",
       "      <th>1</th>\n",
       "      <td>88</td>\n",
       "      <td>900</td>\n",
       "      <td>9</td>\n",
       "      <td>4</td>\n",
       "      <td>600</td>\n",
       "      <td>2944</td>\n",
       "      <td>300</td>\n",
       "      <td>0</td>\n",
       "      <td>66.666667</td>\n",
       "      <td>132.287566</td>\n",
       "      <td>...</td>\n",
       "      <td>20</td>\n",
       "      <td>0.0</td>\n",
       "      <td>0.0</td>\n",
       "      <td>0</td>\n",
       "      <td>0</td>\n",
       "      <td>0.0</td>\n",
       "      <td>0.0</td>\n",
       "      <td>0</td>\n",
       "      <td>0</td>\n",
       "      <td>1</td>\n",
       "    </tr>\n",
       "    <tr>\n",
       "      <th>2</th>\n",
       "      <td>88</td>\n",
       "      <td>1205</td>\n",
       "      <td>7</td>\n",
       "      <td>4</td>\n",
       "      <td>2776</td>\n",
       "      <td>2830</td>\n",
       "      <td>1388</td>\n",
       "      <td>0</td>\n",
       "      <td>396.571429</td>\n",
       "      <td>677.274651</td>\n",
       "      <td>...</td>\n",
       "      <td>20</td>\n",
       "      <td>0.0</td>\n",
       "      <td>0.0</td>\n",
       "      <td>0</td>\n",
       "      <td>0</td>\n",
       "      <td>0.0</td>\n",
       "      <td>0.0</td>\n",
       "      <td>0</td>\n",
       "      <td>0</td>\n",
       "      <td>1</td>\n",
       "    </tr>\n",
       "  </tbody>\n",
       "</table>\n",
       "<p>3 rows × 79 columns</p>\n",
       "</div>"
      ],
      "text/plain": [
       "    Destination Port   Flow Duration   Total Fwd Packets  \\\n",
       "0                 88             640                   7   \n",
       "1                 88             900                   9   \n",
       "2                 88            1205                   7   \n",
       "\n",
       "    Total Backward Packets  Total Length of Fwd Packets  \\\n",
       "0                        4                          440   \n",
       "1                        4                          600   \n",
       "2                        4                         2776   \n",
       "\n",
       "    Total Length of Bwd Packets   Fwd Packet Length Max  \\\n",
       "0                           358                     220   \n",
       "1                          2944                     300   \n",
       "2                          2830                    1388   \n",
       "\n",
       "    Fwd Packet Length Min   Fwd Packet Length Mean   Fwd Packet Length Std  \\\n",
       "0                       0                62.857143              107.349008   \n",
       "1                       0                66.666667              132.287566   \n",
       "2                       0               396.571429              677.274651   \n",
       "\n",
       "   ...   min_seg_size_forward  Active Mean   Active Std   Active Max  \\\n",
       "0  ...                     20          0.0          0.0            0   \n",
       "1  ...                     20          0.0          0.0            0   \n",
       "2  ...                     20          0.0          0.0            0   \n",
       "\n",
       "    Active Min  Idle Mean   Idle Std   Idle Max   Idle Min   Label  \n",
       "0            0        0.0        0.0          0          0       1  \n",
       "1            0        0.0        0.0          0          0       1  \n",
       "2            0        0.0        0.0          0          0       1  \n",
       "\n",
       "[3 rows x 79 columns]"
      ]
     },
     "execution_count": 9,
     "metadata": {},
     "output_type": "execute_result"
    }
   ],
   "source": [
    "\n",
    "#print(data['Label'].value_counts(sort=1))\n",
    "print(data.iloc[:,78].value_counts(sort=1))\n",
    "data.iloc[:,78][data.iloc[:,78] == 'BENIGN'] = 1\n",
    "data.iloc[:,78][data.iloc[:,78] == 'FTP-Patator'] = 0\n",
    "data.iloc[:,78][data.iloc[:,78] == 'SSH-Patator'] = -1\n",
    "data.head(3)"
   ]
  },
  {
   "cell_type": "code",
   "execution_count": 10,
   "id": "f888a7ac",
   "metadata": {},
   "outputs": [
    {
     "name": "stdout",
     "output_type": "stream",
     "text": [
      " 1    432074\n",
      " 0      7938\n",
      "-1      5897\n",
      "Name:  Label, dtype: int64\n"
     ]
    }
   ],
   "source": [
    "#import numpy as np\n",
    "#np.where(data.values >= np.finfo(np.float64).max)\n",
    "#data.fillna(0)\n",
    "#data.isnull().any().any()  \n",
    "print(data.iloc[:,78].value_counts(sort=1))"
   ]
  },
  {
   "cell_type": "code",
   "execution_count": 11,
   "id": "e99d7f2e",
   "metadata": {},
   "outputs": [],
   "source": [
    "#np.isnan(data.values.any())\n",
    "#data.isnull().any().any()\n",
    "   #data.isna().sum().sum()\n",
    "#else:\n",
    "  #print(\"no NaN values\")   \n"
   ]
  },
  {
   "cell_type": "code",
   "execution_count": 12,
   "id": "8973afc6",
   "metadata": {},
   "outputs": [],
   "source": [
    "def clean_dataset(data):\n",
    "  assert isinstance (data, pd.DataFrame), \"df need to be a pd.DataFrame\"\n",
    "  data.dropna(inplace=True)\n",
    "  indices_to_keep=~data.isin([np.nan, np.inf, -np.inf]).any(1)\n",
    "  return data[indices_to_keep].astype(np.float64)\n",
    "\n",
    "data = clean_dataset(data)"
   ]
  },
  {
   "cell_type": "code",
   "execution_count": 13,
   "id": "d82ebdbe",
   "metadata": {},
   "outputs": [],
   "source": [
    "with open('readme.txt', 'w') as f:\n",
    "    f.write(str(data))"
   ]
  },
  {
   "cell_type": "code",
   "execution_count": 14,
   "id": "11ac41fc",
   "metadata": {},
   "outputs": [
    {
     "name": "stdout",
     "output_type": "stream",
     "text": [
      "0         1.0\n",
      "1         1.0\n",
      "2         1.0\n",
      "3         1.0\n",
      "4         1.0\n",
      "         ... \n",
      "445904    1.0\n",
      "445905    1.0\n",
      "445906    1.0\n",
      "445907    1.0\n",
      "445908    1.0\n",
      "Name:  Label, Length: 445645, dtype: float64\n",
      "(445645, 78)\n",
      "(445645,)\n"
     ]
    }
   ],
   "source": [
    "Y = data.iloc[:,78]\n",
    "#Y = data.columns[78]\n",
    "print(Y)\n",
    "X = data.drop(data.columns[78],axis=1)\n",
    "print(X.shape)\n",
    "print(Y.shape)"
   ]
  },
  {
   "cell_type": "code",
   "execution_count": 15,
   "id": "5510823a",
   "metadata": {},
   "outputs": [
    {
     "data": {
      "text/plain": [
       "365.64190131876296"
      ]
     },
     "execution_count": 15,
     "metadata": {},
     "output_type": "execute_result"
    }
   ],
   "source": [
    "import math\n",
    "from sklearn.model_selection import train_test_split\n",
    "from sklearn.metrics import accuracy_score,confusion_matrix,classification_report\n",
    "xtrain, xtest, ytrain, ytest = train_test_split(X,Y,test_size= 0.3,random_state=20)\n",
    "len(ytest)\n",
    "K = math.sqrt(len(ytest))\n",
    "K"
   ]
  },
  {
   "cell_type": "code",
   "execution_count": 16,
   "id": "6a8f058d",
   "metadata": {},
   "outputs": [
    {
     "data": {
      "text/plain": [
       "0.9943452959743893"
      ]
     },
     "execution_count": 16,
     "metadata": {},
     "output_type": "execute_result"
    }
   ],
   "source": [
    "from sklearn.neighbors import KNeighborsClassifier\n",
    "knn_model = KNeighborsClassifier(n_neighbors=int(K))\n",
    "knn_model.fit(xtrain,ytrain)\n",
    "knn_model.score(xtest,ytest)"
   ]
  },
  {
   "cell_type": "code",
   "execution_count": 17,
   "id": "ca4f6027",
   "metadata": {
    "scrolled": false
   },
   "outputs": [
    {
     "name": "stdout",
     "output_type": "stream",
     "text": [
      "              precision    recall  f1-score   support\n",
      "\n",
      "        -1.0       0.86      0.96      0.91      1776\n",
      "         0.0       0.90      0.93      0.91      2388\n",
      "         1.0       1.00      1.00      1.00    129530\n",
      "\n",
      "    accuracy                           0.99    133694\n",
      "   macro avg       0.92      0.96      0.94    133694\n",
      "weighted avg       0.99      0.99      0.99    133694\n",
      "\n",
      "\n",
      "\n",
      "[[  1704      4     68]\n",
      " [     3   2228    157]\n",
      " [   273    251 129006]]\n",
      "\n",
      "\n"
     ]
    },
    {
     "data": {
      "image/png": "[encoded data removed]",
      "text/plain": [
       "<Figure size 432x288 with 2 Axes>"
      ]
     },
     "metadata": {
      "needs_background": "light"
     },
     "output_type": "display_data"
    }
   ],
   "source": [
    "import matplotlib.pyplot as plt\n",
    "from sklearn.metrics import plot_confusion_matrix\n",
    "Pred = knn_model.predict(xtest)\n",
    "print(classification_report(ytest,Pred))\n",
    "plot_confusion_matrix(knn_model,xtest,ytest)\n",
    "print(\"\\n\")\n",
    "print(confusion_matrix(ytest,Pred))\n",
    "print(\"\\n\")"
   ]
  },
  {
   "cell_type": "code",
   "execution_count": 18,
   "id": "1c76af76",
   "metadata": {
    "scrolled": false
   },
   "outputs": [
    {
     "name": "stderr",
     "output_type": "stream",
     "text": [
      "C:\\Users\\thobani_radebe\\Anaconda3\\lib\\site-packages\\seaborn\\distributions.py:2619: FutureWarning: `distplot` is a deprecated function and will be removed in a future version. Please adapt your code to use either `displot` (a figure-level function with similar flexibility) or `kdeplot` (an axes-level function for kernel density plots).\n",
      "  warnings.warn(msg, FutureWarning)\n",
      "C:\\Users\\thobani_radebe\\Anaconda3\\lib\\site-packages\\seaborn\\distributions.py:2619: FutureWarning: `distplot` is a deprecated function and will be removed in a future version. Please adapt your code to use either `displot` (a figure-level function with similar flexibility) or `kdeplot` (an axes-level function for kernel density plots).\n",
      "  warnings.warn(msg, FutureWarning)\n"
     ]
    },
    {
     "data": {
      "image/png": "[encoded data removed]",
      "text/plain": [
       "<Figure size 720x504 with 1 Axes>"
      ]
     },
     "metadata": {
      "needs_background": "light"
     },
     "output_type": "display_data"
    }
   ],
   "source": [
    "import seaborn as sns\n",
    "import matplotlib.pyplot as plt\n",
    "plt.figure(figsize=(10, 7))\n",
    "ax = sns.distplot(data.iloc[:,78], hist=False, color=\"r\", label=\"Actual Value\")\n",
    "sns.distplot(Pred, hist=False, color=\"b\", label=\"Predicted Values\", ax=ax)\n",
    "plt.title('Actual vs Precited value for outcome')\n",
    "plt.show()\n",
    "plt.close()"
   ]
  }
 ],
 "metadata": {
  "kernelspec": {
   "display_name": "Python 3 (ipykernel)",
   "language": "python",
   "name": "python3"
  },
  "language_info": {
   "codemirror_mode": {
    "name": "ipython",
    "version": 3
   },
   "file_extension": ".py",
   "mimetype": "text/x-python",
   "name": "python",
   "nbconvert_exporter": "python",
   "pygments_lexer": "ipython3",
   "version": "3.9.7"
  }
 },
 "nbformat": 4,
 "nbformat_minor": 5
}
