{
 "cells": [
  {
   "cell_type": "code",
   "execution_count": 1,
   "id": "13bc3d61",
   "metadata": {},
   "outputs": [],
   "source": [
    "import numpy as np\n",
    "import pandas as pd"
   ]
  },
  {
   "cell_type": "code",
   "execution_count": 2,
   "id": "4c41da7f",
   "metadata": {},
   "outputs": [
    {
     "data": {
      "text/html": [
       "<div>\n",
       "<style scoped>\n",
       "    .dataframe tbody tr th:only-of-type {\n",
       "        vertical-align: middle;\n",
       "    }\n",
       "\n",
       "    .dataframe tbody tr th {\n",
       "        vertical-align: top;\n",
       "    }\n",
       "\n",
       "    .dataframe thead th {\n",
       "        text-align: right;\n",
       "    }\n",
       "</style>\n",
       "<table border=\"1\" class=\"dataframe\">\n",
       "  <thead>\n",
       "    <tr style=\"text-align: right;\">\n",
       "      <th></th>\n",
       "      <th>Dst Port</th>\n",
       "      <th>Protocol</th>\n",
       "      <th>Timestamp</th>\n",
       "      <th>Flow Duration</th>\n",
       "      <th>Tot Fwd Pkts</th>\n",
       "      <th>Tot Bwd Pkts</th>\n",
       "      <th>TotLen Fwd Pkts</th>\n",
       "      <th>TotLen Bwd Pkts</th>\n",
       "      <th>Fwd Pkt Len Max</th>\n",
       "      <th>Fwd Pkt Len Min</th>\n",
       "      <th>...</th>\n",
       "      <th>Fwd Seg Size Min</th>\n",
       "      <th>Active Mean</th>\n",
       "      <th>Active Std</th>\n",
       "      <th>Active Max</th>\n",
       "      <th>Active Min</th>\n",
       "      <th>Idle Mean</th>\n",
       "      <th>Idle Std</th>\n",
       "      <th>Idle Max</th>\n",
       "      <th>Idle Min</th>\n",
       "      <th>Label</th>\n",
       "    </tr>\n",
       "  </thead>\n",
       "  <tbody>\n",
       "    <tr>\n",
       "      <th>0</th>\n",
       "      <td>22</td>\n",
       "      <td>6</td>\n",
       "      <td>22/02/2018 08:26:03</td>\n",
       "      <td>20553406</td>\n",
       "      <td>10</td>\n",
       "      <td>7</td>\n",
       "      <td>1063</td>\n",
       "      <td>1297</td>\n",
       "      <td>744</td>\n",
       "      <td>0</td>\n",
       "      <td>...</td>\n",
       "      <td>20</td>\n",
       "      <td>1027304.0</td>\n",
       "      <td>0.0</td>\n",
       "      <td>1027304</td>\n",
       "      <td>1027304</td>\n",
       "      <td>1.952608e+07</td>\n",
       "      <td>0.000000e+00</td>\n",
       "      <td>19526080</td>\n",
       "      <td>19526080</td>\n",
       "      <td>Benign</td>\n",
       "    </tr>\n",
       "    <tr>\n",
       "      <th>1</th>\n",
       "      <td>34989</td>\n",
       "      <td>6</td>\n",
       "      <td>22/02/2018 08:26:24</td>\n",
       "      <td>790</td>\n",
       "      <td>2</td>\n",
       "      <td>0</td>\n",
       "      <td>848</td>\n",
       "      <td>0</td>\n",
       "      <td>848</td>\n",
       "      <td>0</td>\n",
       "      <td>...</td>\n",
       "      <td>20</td>\n",
       "      <td>0.0</td>\n",
       "      <td>0.0</td>\n",
       "      <td>0</td>\n",
       "      <td>0</td>\n",
       "      <td>0.000000e+00</td>\n",
       "      <td>0.000000e+00</td>\n",
       "      <td>0</td>\n",
       "      <td>0</td>\n",
       "      <td>Benign</td>\n",
       "    </tr>\n",
       "    <tr>\n",
       "      <th>2</th>\n",
       "      <td>500</td>\n",
       "      <td>17</td>\n",
       "      <td>22/02/2018 08:25:10</td>\n",
       "      <td>99745913</td>\n",
       "      <td>5</td>\n",
       "      <td>0</td>\n",
       "      <td>2500</td>\n",
       "      <td>0</td>\n",
       "      <td>500</td>\n",
       "      <td>500</td>\n",
       "      <td>...</td>\n",
       "      <td>8</td>\n",
       "      <td>4000203.0</td>\n",
       "      <td>0.0</td>\n",
       "      <td>4000203</td>\n",
       "      <td>4000203</td>\n",
       "      <td>3.191524e+07</td>\n",
       "      <td>3.792787e+07</td>\n",
       "      <td>75584115</td>\n",
       "      <td>7200679</td>\n",
       "      <td>Benign</td>\n",
       "    </tr>\n",
       "  </tbody>\n",
       "</table>\n",
       "<p>3 rows × 80 columns</p>\n",
       "</div>"
      ],
      "text/plain": [
       "   Dst Port  Protocol            Timestamp  Flow Duration  Tot Fwd Pkts  \\\n",
       "0        22         6  22/02/2018 08:26:03       20553406            10   \n",
       "1     34989         6  22/02/2018 08:26:24            790             2   \n",
       "2       500        17  22/02/2018 08:25:10       99745913             5   \n",
       "\n",
       "   Tot Bwd Pkts  TotLen Fwd Pkts  TotLen Bwd Pkts  Fwd Pkt Len Max  \\\n",
       "0             7             1063             1297              744   \n",
       "1             0              848                0              848   \n",
       "2             0             2500                0              500   \n",
       "\n",
       "   Fwd Pkt Len Min  ...  Fwd Seg Size Min  Active Mean  Active Std  \\\n",
       "0                0  ...                20    1027304.0         0.0   \n",
       "1                0  ...                20          0.0         0.0   \n",
       "2              500  ...                 8    4000203.0         0.0   \n",
       "\n",
       "   Active Max  Active Min     Idle Mean      Idle Std  Idle Max  Idle Min  \\\n",
       "0     1027304     1027304  1.952608e+07  0.000000e+00  19526080  19526080   \n",
       "1           0           0  0.000000e+00  0.000000e+00         0         0   \n",
       "2     4000203     4000203  3.191524e+07  3.792787e+07  75584115   7200679   \n",
       "\n",
       "    Label  \n",
       "0  Benign  \n",
       "1  Benign  \n",
       "2  Benign  \n",
       "\n",
       "[3 rows x 80 columns]"
      ]
     },
     "execution_count": 2,
     "metadata": {},
     "output_type": "execute_result"
    }
   ],
   "source": [
    "#col_names = [\"DestinationPort\",\"FlowDuration\",\"TotalFwdPackets\",\"TotalBackwardPackets\",\"TotalLengthofFwdPackets\",\"TotalLengthofBwdPackets\",\"FwdPacketLengthMax\",\"FwdPacketLengthMin\",\"FwdPacketLengthMean\",\"FwdPacketLengthStd\",\"BwdPacketLengthMax\",\"BwdPacketLengthMin\",\"BwdPacketLengthMean\",\"BwdPacketLengthStd\",\"FlowBytes/s\",\"FlowPackets/s\",\"FlowIATMean\",\"FlowIATStd\",\"FlowIATMax\",\"FlowIATMin\",\"FwdIATTotal\",\"FwdIATMean\",\"FwdIATStd\",\"FwdIATMax\",\"FwdIATMin\",\"BwdIATTotal\",\"BwdIATMean\",\"BwdIATStd\",\"BwdIATMax\",\"BwdIATMin\",\"FwdPSHFlags\",\"BwdPSHFlags\",\"FwdURGFlags\",\"BwdURGFlags\",\"FwdHeaderLength\",\"BwdHeaderLength\",\"FwdPackets/s\",\"BwdPackets/s\",\"MinPacketLength\",\"MaxPacketLength\",\"PacketLengthMean\",\"PacketLengthStd\",\"PacketLengthVariance\",\"FINFlagCount\",\"SYNFlagCount\",\"RSTFlagCount\",\"PSHFlagCount\",\"ACKFlagCount\",\"URGFlagCount\",\"CWEFlagCount\",\"ECEFlagCount\",\"Down/UpRatio\",\"AveragePacketSize\",\"AvgFwdSegmentSize\",\"AvgBwdSegmentSize\",\"FwdHeaderLength\",\"FwdAvgBytes/Bulk\",\"FwdAvgPackets/Bulk\",\"FwdAvgBulkRate\",\"BwdAvgBytes/Bulk\",\"BwdAvgPackets/Bulk\",\"BwdAvgBulkRate\",\"SubflowFwdPackets\",\"SubflowFwdBytes\",\"SubflowBwdPackets\",\"SubflowBwdBytes\",\"Init_Win_bytes_forward\",\"Init_Win_bytes_backward\",\"act_data_pkt_fwd\",\"min_seg_size_forward\",\"ActiveMean\",\"ActiveStd\",\"ActiveMax\",\"ActiveMin\",\"IdleMean\",\"IdleStd\",\"IdleMax\",\"IdleMin\",\"Label\"]\n",
    "data = pd.read_csv('02-22-2018.csv', sep=\",\")#names=col_names)\n",
    "data.head(3)"
   ]
  },
  {
   "cell_type": "code",
   "execution_count": 3,
   "id": "9f22c718",
   "metadata": {},
   "outputs": [
    {
     "name": "stdout",
     "output_type": "stream",
     "text": [
      "Benign              1048213\n",
      "Brute Force -Web        249\n",
      "Brute Force -XSS         79\n",
      "SQL Injection            34\n",
      "Name: Label, dtype: int64\n"
     ]
    }
   ],
   "source": [
    "print(data['Label'].value_counts(sort=1))"
   ]
  },
  {
   "cell_type": "code",
   "execution_count": 4,
   "id": "89b60104",
   "metadata": {},
   "outputs": [
    {
     "name": "stderr",
     "output_type": "stream",
     "text": [
      "C:\\Users\\THOBAN~1\\AppData\\Local\\Temp/ipykernel_26444/526142899.py:1: SettingWithCopyWarning: \n",
      "A value is trying to be set on a copy of a slice from a DataFrame\n",
      "\n",
      "See the caveats in the documentation: https://pandas.pydata.org/pandas-docs/stable/user_guide/indexing.html#returning-a-view-versus-a-copy\n",
      "  data.Label[data.Label == 'Benign'] = 1\n",
      "C:\\Users\\THOBAN~1\\AppData\\Local\\Temp/ipykernel_26444/526142899.py:2: SettingWithCopyWarning: \n",
      "A value is trying to be set on a copy of a slice from a DataFrame\n",
      "\n",
      "See the caveats in the documentation: https://pandas.pydata.org/pandas-docs/stable/user_guide/indexing.html#returning-a-view-versus-a-copy\n",
      "  data.Label[data.Label == 'Brute Force -Web'] = 0\n",
      "C:\\Users\\THOBAN~1\\AppData\\Local\\Temp/ipykernel_26444/526142899.py:3: SettingWithCopyWarning: \n",
      "A value is trying to be set on a copy of a slice from a DataFrame\n",
      "\n",
      "See the caveats in the documentation: https://pandas.pydata.org/pandas-docs/stable/user_guide/indexing.html#returning-a-view-versus-a-copy\n",
      "  data.Label[data.Label == 'Brute Force -XSS'] = -1\n",
      "C:\\Users\\THOBAN~1\\AppData\\Local\\Temp/ipykernel_26444/526142899.py:4: SettingWithCopyWarning: \n",
      "A value is trying to be set on a copy of a slice from a DataFrame\n",
      "\n",
      "See the caveats in the documentation: https://pandas.pydata.org/pandas-docs/stable/user_guide/indexing.html#returning-a-view-versus-a-copy\n",
      "  data.Label[data.Label == 'SQL Injection'] = -2\n"
     ]
    },
    {
     "data": {
      "text/plain": [
       " 1    1048213\n",
       " 0        249\n",
       "-1         79\n",
       "-2         34\n",
       "Name: Label, dtype: int64"
      ]
     },
     "execution_count": 4,
     "metadata": {},
     "output_type": "execute_result"
    }
   ],
   "source": [
    "data.Label[data.Label == 'Benign'] = 1\n",
    "data.Label[data.Label == 'Brute Force -Web'] = 0\n",
    "data.Label[data.Label == 'Brute Force -XSS'] = -1\n",
    "data.Label[data.Label == 'SQL Injection'] = -2\n",
    "data['Label'].value_counts()"
   ]
  },
  {
   "cell_type": "code",
   "execution_count": 5,
   "id": "feea602a",
   "metadata": {},
   "outputs": [],
   "source": [
    "def clean_dataset(data):\n",
    "  assert isinstance (data, pd.DataFrame)\n",
    "  data.dropna(inplace=True)\n",
    "  indices_to_keep=~data.isin([np.nan, np.inf, -np.inf]).any(1)\n",
    "  return data[indices_to_keep].astype(np.float64)\n",
    "data = data.drop(labels=['Timestamp'], axis=1)\n",
    "data = clean_dataset(data)"
   ]
  },
  {
   "cell_type": "code",
   "execution_count": 6,
   "id": "cbbecf36",
   "metadata": {},
   "outputs": [
    {
     "name": "stdout",
     "output_type": "stream",
     "text": [
      "Index([], dtype='object')\n"
     ]
    }
   ],
   "source": [
    "print(data.select_dtypes(exclude='number').columns)"
   ]
  },
  {
   "cell_type": "code",
   "execution_count": 7,
   "id": "11ac41fc",
   "metadata": {},
   "outputs": [
    {
     "name": "stdout",
     "output_type": "stream",
     "text": [
      "0          1.0\n",
      "1          1.0\n",
      "2          1.0\n",
      "3          1.0\n",
      "4          1.0\n",
      "          ... \n",
      "1048570    1.0\n",
      "1048571    1.0\n",
      "1048572    1.0\n",
      "1048573    1.0\n",
      "1048574    1.0\n",
      "Name: Label, Length: 1042965, dtype: float64\n",
      "(1042965, 78)\n",
      "(1042965,)\n"
     ]
    }
   ],
   "source": [
    "#Y = data.iloc[:,78]\n",
    "Y = data['Label']\n",
    "print(Y)\n",
    "#X = data.drop(data.columns[78],axis=1)\n",
    "X = data.drop(labels=['Label'], axis=1)\n",
    "\n",
    "#print(X)\n",
    "print(X.shape)\n",
    "print(Y.shape)"
   ]
  },
  {
   "cell_type": "code",
   "execution_count": 8,
   "id": "8ae71d93",
   "metadata": {},
   "outputs": [
    {
     "name": "stdout",
     "output_type": "stream",
     "text": [
      "99 The int version is 99\n"
     ]
    }
   ],
   "source": [
    "import math\n",
    "from sklearn.model_selection import train_test_split\n",
    "from sklearn.metrics import accuracy_score,confusion_matrix,classification_report\n",
    "xtrain, xtest, ytrain, ytest = train_test_split(X,Y,test_size= 0.3,random_state=20)\n",
    "len(ytest)\n",
    "K = math.sqrt(len(ytest))\n",
    "K\n",
    "if(K > 500):\n",
    "    K = 99\n",
    "if(int(K)%2 == 0):\n",
    "    K = K-1\n",
    "\n",
    "print(K,\"The int version is\", int(K))    "
   ]
  },
  {
   "cell_type": "code",
   "execution_count": 9,
   "id": "35f394af",
   "metadata": {},
   "outputs": [
    {
     "data": {
      "text/plain": [
       "0.9996452427370641"
      ]
     },
     "execution_count": 9,
     "metadata": {},
     "output_type": "execute_result"
    }
   ],
   "source": [
    "from sklearn.neighbors import KNeighborsClassifier\n",
    "knn_model = KNeighborsClassifier(n_neighbors=int(K))\n",
    "knn_model.fit(xtrain,ytrain)\n",
    "knn_model.score(xtest,ytest)"
   ]
  },
  {
   "cell_type": "code",
   "execution_count": 10,
   "id": "ca4f6027",
   "metadata": {},
   "outputs": [
    {
     "name": "stderr",
     "output_type": "stream",
     "text": [
      "C:\\Users\\thobani_radebe\\Anaconda3\\lib\\site-packages\\sklearn\\metrics\\_classification.py:1248: UndefinedMetricWarning: Precision and F-score are ill-defined and being set to 0.0 in labels with no predicted samples. Use `zero_division` parameter to control this behavior.\n",
      "  _warn_prf(average, modifier, msg_start, len(result))\n",
      "C:\\Users\\thobani_radebe\\Anaconda3\\lib\\site-packages\\sklearn\\metrics\\_classification.py:1248: UndefinedMetricWarning: Precision and F-score are ill-defined and being set to 0.0 in labels with no predicted samples. Use `zero_division` parameter to control this behavior.\n",
      "  _warn_prf(average, modifier, msg_start, len(result))\n",
      "C:\\Users\\thobani_radebe\\Anaconda3\\lib\\site-packages\\sklearn\\metrics\\_classification.py:1248: UndefinedMetricWarning: Precision and F-score are ill-defined and being set to 0.0 in labels with no predicted samples. Use `zero_division` parameter to control this behavior.\n",
      "  _warn_prf(average, modifier, msg_start, len(result))\n"
     ]
    },
    {
     "name": "stdout",
     "output_type": "stream",
     "text": [
      "              precision    recall  f1-score   support\n",
      "\n",
      "        -2.0       0.00      0.00      0.00        14\n",
      "        -1.0       0.00      0.00      0.00        37\n",
      "         0.0       0.54      0.28      0.37        79\n",
      "         1.0       1.00      1.00      1.00    312760\n",
      "\n",
      "    accuracy                           1.00    312890\n",
      "   macro avg       0.38      0.32      0.34    312890\n",
      "weighted avg       1.00      1.00      1.00    312890\n",
      "\n",
      "\n",
      "\n",
      "[[     0      0      0     14]\n",
      " [     0      0     16     21]\n",
      " [     0      0     22     57]\n",
      " [     0      0      3 312757]]\n",
      "\n",
      "\n"
     ]
    },
    {
     "data": {
      "image/png": "[encoded data removed]",
      "text/plain": [
       "<Figure size 432x288 with 2 Axes>"
      ]
     },
     "metadata": {
      "needs_background": "light"
     },
     "output_type": "display_data"
    }
   ],
   "source": [
    "import matplotlib.pyplot as plt\n",
    "from sklearn.metrics import plot_confusion_matrix\n",
    "Pred = knn_model.predict(xtest)\n",
    "print(classification_report(ytest,Pred))\n",
    "plot_confusion_matrix(knn_model,xtest,ytest)\n",
    "print(\"\\n\")\n",
    "print(confusion_matrix(ytest,Pred))\n",
    "print(\"\\n\")"
   ]
  },
  {
   "cell_type": "code",
   "execution_count": 11,
   "id": "1c76af76",
   "metadata": {},
   "outputs": [
    {
     "name": "stderr",
     "output_type": "stream",
     "text": [
      "C:\\Users\\thobani_radebe\\Anaconda3\\lib\\site-packages\\seaborn\\distributions.py:2619: FutureWarning: `distplot` is a deprecated function and will be removed in a future version. Please adapt your code to use either `displot` (a figure-level function with similar flexibility) or `kdeplot` (an axes-level function for kernel density plots).\n",
      "  warnings.warn(msg, FutureWarning)\n",
      "C:\\Users\\thobani_radebe\\Anaconda3\\lib\\site-packages\\seaborn\\distributions.py:2619: FutureWarning: `distplot` is a deprecated function and will be removed in a future version. Please adapt your code to use either `displot` (a figure-level function with similar flexibility) or `kdeplot` (an axes-level function for kernel density plots).\n",
      "  warnings.warn(msg, FutureWarning)\n"
     ]
    },
    {
     "data": {
      "image/png": "[encoded data removed]",
      "text/plain": [
       "<Figure size 720x504 with 1 Axes>"
      ]
     },
     "metadata": {
      "needs_background": "light"
     },
     "output_type": "display_data"
    }
   ],
   "source": [
    "import seaborn as sns\n",
    "import matplotlib.pyplot as plt\n",
    "plt.figure(figsize=(10, 7))\n",
    "ax = sns.distplot(data.iloc[:,78], hist=False, color=\"r\", label=\"Actual Value\")\n",
    "sns.distplot(Pred, hist=False, color=\"b\", label=\"Predicted Values\", ax=ax)\n",
    "plt.title('Actual vs Precited value for outcome')\n",
    "plt.show()\n",
    "plt.close()"
   ]
  }
 ],
 "metadata": {
  "kernelspec": {
   "display_name": "Python 3 (ipykernel)",
   "language": "python",
   "name": "python3"
  },
  "language_info": {
   "codemirror_mode": {
    "name": "ipython",
    "version": 3
   },
   "file_extension": ".py",
   "mimetype": "text/x-python",
   "name": "python",
   "nbconvert_exporter": "python",
   "pygments_lexer": "ipython3",
   "version": "3.9.7"
  }
 },
 "nbformat": 4,
 "nbformat_minor": 5
}
