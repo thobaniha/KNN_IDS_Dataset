{
 "cells": [
  {
   "cell_type": "code",
   "execution_count": 1,
   "id": "13bc3d61",
   "metadata": {},
   "outputs": [],
   "source": [
    "import numpy as np\n",
    "import pandas as pd"
   ]
  },
  {
   "cell_type": "code",
   "execution_count": 2,
   "id": "4c41da7f",
   "metadata": {},
   "outputs": [
    {
     "name": "stderr",
     "output_type": "stream",
     "text": [
      "C:\\Users\\thobani_radebe\\Anaconda3\\lib\\site-packages\\IPython\\core\\interactiveshell.py:3444: DtypeWarning: Columns (0,1,3,4,5,6,7,8,9,10,11,12,13,14,15,16,17,18,19,20,21,22,23,24,25,26,27,28,29,30,31,32,33,34,35,36,37,38,39,40,41,42,43,44,45,46,47,48,49,50,51,52,53,54,55,56,57,58,59,60,61,62,63,64,65,66,67,68,69,70,71,72,73,74,75,76,77,78) have mixed types.Specify dtype option on import or set low_memory=False.\n",
      "  exec(code_obj, self.user_global_ns, self.user_ns)\n"
     ]
    },
    {
     "data": {
      "text/html": [
       "<div>\n",
       "<style scoped>\n",
       "    .dataframe tbody tr th:only-of-type {\n",
       "        vertical-align: middle;\n",
       "    }\n",
       "\n",
       "    .dataframe tbody tr th {\n",
       "        vertical-align: top;\n",
       "    }\n",
       "\n",
       "    .dataframe thead th {\n",
       "        text-align: right;\n",
       "    }\n",
       "</style>\n",
       "<table border=\"1\" class=\"dataframe\">\n",
       "  <thead>\n",
       "    <tr style=\"text-align: right;\">\n",
       "      <th></th>\n",
       "      <th>Dst Port</th>\n",
       "      <th>Protocol</th>\n",
       "      <th>Timestamp</th>\n",
       "      <th>Flow Duration</th>\n",
       "      <th>Tot Fwd Pkts</th>\n",
       "      <th>Tot Bwd Pkts</th>\n",
       "      <th>TotLen Fwd Pkts</th>\n",
       "      <th>TotLen Bwd Pkts</th>\n",
       "      <th>Fwd Pkt Len Max</th>\n",
       "      <th>Fwd Pkt Len Min</th>\n",
       "      <th>...</th>\n",
       "      <th>Fwd Seg Size Min</th>\n",
       "      <th>Active Mean</th>\n",
       "      <th>Active Std</th>\n",
       "      <th>Active Max</th>\n",
       "      <th>Active Min</th>\n",
       "      <th>Idle Mean</th>\n",
       "      <th>Idle Std</th>\n",
       "      <th>Idle Max</th>\n",
       "      <th>Idle Min</th>\n",
       "      <th>Label</th>\n",
       "    </tr>\n",
       "  </thead>\n",
       "  <tbody>\n",
       "    <tr>\n",
       "      <th>0</th>\n",
       "      <td>0</td>\n",
       "      <td>0</td>\n",
       "      <td>16/02/2018 08:27:23</td>\n",
       "      <td>112640768</td>\n",
       "      <td>3</td>\n",
       "      <td>0</td>\n",
       "      <td>0</td>\n",
       "      <td>0</td>\n",
       "      <td>0</td>\n",
       "      <td>0</td>\n",
       "      <td>...</td>\n",
       "      <td>0</td>\n",
       "      <td>0</td>\n",
       "      <td>0.0</td>\n",
       "      <td>0</td>\n",
       "      <td>0</td>\n",
       "      <td>56300000.0</td>\n",
       "      <td>138.592929</td>\n",
       "      <td>56300000</td>\n",
       "      <td>56300000</td>\n",
       "      <td>Benign</td>\n",
       "    </tr>\n",
       "    <tr>\n",
       "      <th>1</th>\n",
       "      <td>0</td>\n",
       "      <td>0</td>\n",
       "      <td>16/02/2018 08:30:12</td>\n",
       "      <td>112641773</td>\n",
       "      <td>3</td>\n",
       "      <td>0</td>\n",
       "      <td>0</td>\n",
       "      <td>0</td>\n",
       "      <td>0</td>\n",
       "      <td>0</td>\n",
       "      <td>...</td>\n",
       "      <td>0</td>\n",
       "      <td>0</td>\n",
       "      <td>0.0</td>\n",
       "      <td>0</td>\n",
       "      <td>0</td>\n",
       "      <td>56300000.0</td>\n",
       "      <td>263.750829</td>\n",
       "      <td>56300000</td>\n",
       "      <td>56300000</td>\n",
       "      <td>Benign</td>\n",
       "    </tr>\n",
       "    <tr>\n",
       "      <th>2</th>\n",
       "      <td>35605</td>\n",
       "      <td>6</td>\n",
       "      <td>16/02/2018 08:26:55</td>\n",
       "      <td>20784143</td>\n",
       "      <td>23</td>\n",
       "      <td>44</td>\n",
       "      <td>2416</td>\n",
       "      <td>1344</td>\n",
       "      <td>240</td>\n",
       "      <td>64</td>\n",
       "      <td>...</td>\n",
       "      <td>20</td>\n",
       "      <td>2624734</td>\n",
       "      <td>0.0</td>\n",
       "      <td>2624734</td>\n",
       "      <td>2624734</td>\n",
       "      <td>9058214.0</td>\n",
       "      <td>0.0</td>\n",
       "      <td>9058214</td>\n",
       "      <td>9058214</td>\n",
       "      <td>Benign</td>\n",
       "    </tr>\n",
       "  </tbody>\n",
       "</table>\n",
       "<p>3 rows × 80 columns</p>\n",
       "</div>"
      ],
      "text/plain": [
       "  Dst Port Protocol            Timestamp Flow Duration Tot Fwd Pkts  \\\n",
       "0        0        0  16/02/2018 08:27:23     112640768            3   \n",
       "1        0        0  16/02/2018 08:30:12     112641773            3   \n",
       "2    35605        6  16/02/2018 08:26:55      20784143           23   \n",
       "\n",
       "  Tot Bwd Pkts TotLen Fwd Pkts TotLen Bwd Pkts Fwd Pkt Len Max  \\\n",
       "0            0               0               0               0   \n",
       "1            0               0               0               0   \n",
       "2           44            2416            1344             240   \n",
       "\n",
       "  Fwd Pkt Len Min  ... Fwd Seg Size Min Active Mean Active Std Active Max  \\\n",
       "0               0  ...                0           0        0.0          0   \n",
       "1               0  ...                0           0        0.0          0   \n",
       "2              64  ...               20     2624734        0.0    2624734   \n",
       "\n",
       "  Active Min   Idle Mean    Idle Std  Idle Max  Idle Min   Label  \n",
       "0          0  56300000.0  138.592929  56300000  56300000  Benign  \n",
       "1          0  56300000.0  263.750829  56300000  56300000  Benign  \n",
       "2    2624734   9058214.0         0.0   9058214   9058214  Benign  \n",
       "\n",
       "[3 rows x 80 columns]"
      ]
     },
     "execution_count": 2,
     "metadata": {},
     "output_type": "execute_result"
    }
   ],
   "source": [
    "#col_names = [\"DestinationPort\",\"FlowDuration\",\"TotalFwdPackets\",\"TotalBackwardPackets\",\"TotalLengthofFwdPackets\",\"TotalLengthofBwdPackets\",\"FwdPacketLengthMax\",\"FwdPacketLengthMin\",\"FwdPacketLengthMean\",\"FwdPacketLengthStd\",\"BwdPacketLengthMax\",\"BwdPacketLengthMin\",\"BwdPacketLengthMean\",\"BwdPacketLengthStd\",\"FlowBytes/s\",\"FlowPackets/s\",\"FlowIATMean\",\"FlowIATStd\",\"FlowIATMax\",\"FlowIATMin\",\"FwdIATTotal\",\"FwdIATMean\",\"FwdIATStd\",\"FwdIATMax\",\"FwdIATMin\",\"BwdIATTotal\",\"BwdIATMean\",\"BwdIATStd\",\"BwdIATMax\",\"BwdIATMin\",\"FwdPSHFlags\",\"BwdPSHFlags\",\"FwdURGFlags\",\"BwdURGFlags\",\"FwdHeaderLength\",\"BwdHeaderLength\",\"FwdPackets/s\",\"BwdPackets/s\",\"MinPacketLength\",\"MaxPacketLength\",\"PacketLengthMean\",\"PacketLengthStd\",\"PacketLengthVariance\",\"FINFlagCount\",\"SYNFlagCount\",\"RSTFlagCount\",\"PSHFlagCount\",\"ACKFlagCount\",\"URGFlagCount\",\"CWEFlagCount\",\"ECEFlagCount\",\"Down/UpRatio\",\"AveragePacketSize\",\"AvgFwdSegmentSize\",\"AvgBwdSegmentSize\",\"FwdHeaderLength\",\"FwdAvgBytes/Bulk\",\"FwdAvgPackets/Bulk\",\"FwdAvgBulkRate\",\"BwdAvgBytes/Bulk\",\"BwdAvgPackets/Bulk\",\"BwdAvgBulkRate\",\"SubflowFwdPackets\",\"SubflowFwdBytes\",\"SubflowBwdPackets\",\"SubflowBwdBytes\",\"Init_Win_bytes_forward\",\"Init_Win_bytes_backward\",\"act_data_pkt_fwd\",\"min_seg_size_forward\",\"ActiveMean\",\"ActiveStd\",\"ActiveMax\",\"ActiveMin\",\"IdleMean\",\"IdleStd\",\"IdleMax\",\"IdleMin\",\"Label\"]\n",
    "data = pd.read_csv('02-16-2018.csv', sep=\",\")#names=col_names)\n",
    "data.head(3)"
   ]
  },
  {
   "cell_type": "code",
   "execution_count": 3,
   "id": "9f22c718",
   "metadata": {},
   "outputs": [
    {
     "name": "stdout",
     "output_type": "stream",
     "text": [
      "DoS attacks-Hulk            461912\n",
      "Benign                      446772\n",
      "DoS attacks-SlowHTTPTest    139890\n",
      "Label                            1\n",
      "Name: Label, dtype: int64\n"
     ]
    }
   ],
   "source": [
    "print(data['Label'].value_counts(sort=1))"
   ]
  },
  {
   "cell_type": "code",
   "execution_count": 4,
   "id": "9fee739f",
   "metadata": {},
   "outputs": [
    {
     "data": {
      "text/plain": [
       "0        461912\n",
       "1        446772\n",
       "-1       139890\n",
       "Label         1\n",
       "Name: Label, dtype: int64"
      ]
     },
     "execution_count": 4,
     "metadata": {},
     "output_type": "execute_result"
    }
   ],
   "source": [
    "data.Label[data.Label == 'Benign'] = 1\n",
    "data.Label[data.Label == 'DoS attacks-Hulk'] = 0\n",
    "data.Label[data.Label == 'DoS attacks-SlowHTTPTest'] = -1\n",
    "data['Label'].value_counts()"
   ]
  },
  {
   "cell_type": "code",
   "execution_count": 5,
   "id": "620e858d",
   "metadata": {},
   "outputs": [
    {
     "name": "stdout",
     "output_type": "stream",
     "text": [
      "[999999]\n"
     ]
    }
   ],
   "source": [
    "#data = data.apply(pd.to_numeric)\n",
    "#data.iloc[21838]  \n",
    "lis = []\n",
    "lis = data[data['Dst Port']=='Dst Port'].index.values\n",
    "print(lis)"
   ]
  },
  {
   "cell_type": "code",
   "execution_count": 6,
   "id": "5f57b471",
   "metadata": {},
   "outputs": [],
   "source": [
    "for i in lis:\n",
    "    #print(data.loc[i, \"Dst Port\"], data.loc[i, \"Protocol\"])\n",
    "    #if type(data.loc[i, \"Dst Port\"]) != int or type(data.loc[i, \"Dst Port\"]) != float:\n",
    "    data=data.drop(i)"
   ]
  },
  {
   "cell_type": "code",
   "execution_count": 7,
   "id": "8ce7d43f",
   "metadata": {},
   "outputs": [
    {
     "data": {
      "text/plain": [
       "(1048574, 80)"
      ]
     },
     "execution_count": 7,
     "metadata": {},
     "output_type": "execute_result"
    }
   ],
   "source": [
    "data.shape\n",
    "#data = data.apply(pd.to_numeric)"
   ]
  },
  {
   "cell_type": "code",
   "execution_count": 8,
   "id": "9a8108ca",
   "metadata": {},
   "outputs": [],
   "source": [
    "def clean_dataset(data):\n",
    "  assert isinstance (data, pd.DataFrame)\n",
    "  data.dropna(inplace=True)\n",
    "  indices_to_keep=~data.isin([np.nan, np.inf, -np.inf]).any(1)\n",
    "  return data[indices_to_keep].astype(np.double)\n",
    "data = data.drop(labels=['Timestamp'], axis=1)\n",
    "data = clean_dataset(data)"
   ]
  },
  {
   "cell_type": "code",
   "execution_count": 9,
   "id": "b0df3702",
   "metadata": {},
   "outputs": [
    {
     "name": "stdout",
     "output_type": "stream",
     "text": [
      "Index([], dtype='object')\n"
     ]
    }
   ],
   "source": [
    "data = data.apply(pd.to_numeric)\n",
    "print(data.select_dtypes(exclude='number').columns)"
   ]
  },
  {
   "cell_type": "code",
   "execution_count": 10,
   "id": "11ac41fc",
   "metadata": {},
   "outputs": [
    {
     "name": "stdout",
     "output_type": "stream",
     "text": [
      "0          1.0\n",
      "1          1.0\n",
      "2          1.0\n",
      "3          1.0\n",
      "4          1.0\n",
      "          ... \n",
      "1048570   -1.0\n",
      "1048571   -1.0\n",
      "1048572   -1.0\n",
      "1048573   -1.0\n",
      "1048574   -1.0\n",
      "Name: Label, Length: 1048574, dtype: float64\n",
      "(1048574, 78)\n",
      "(1048574,)\n"
     ]
    }
   ],
   "source": [
    "#Y = data.iloc[:,78]\n",
    "Y = data['Label']\n",
    "print(Y)\n",
    "#X = data.drop(data.columns[78],axis=1)\n",
    "X = data.drop(labels=['Label'], axis=1)\n",
    "\n",
    "#print(X)\n",
    "print(X.shape)\n",
    "print(Y.shape)"
   ]
  },
  {
   "cell_type": "code",
   "execution_count": 11,
   "id": "8ae71d93",
   "metadata": {},
   "outputs": [
    {
     "name": "stdout",
     "output_type": "stream",
     "text": [
      "99 The int version is 99\n"
     ]
    }
   ],
   "source": [
    "import math\n",
    "from sklearn.model_selection import train_test_split\n",
    "from sklearn.metrics import accuracy_score,confusion_matrix,classification_report\n",
    "xtrain, xtest, ytrain, ytest = train_test_split(X,Y,test_size= 0.3,random_state=20)\n",
    "len(ytest)\n",
    "K = math.sqrt(len(ytest))\n",
    "K\n",
    "if(K > 500):\n",
    "    K = 99\n",
    "if(int(K)%2 == 0):\n",
    "    K = K-1\n",
    "\n",
    "print(K,\"The int version is\", int(K))    "
   ]
  },
  {
   "cell_type": "code",
   "execution_count": 12,
   "id": "35f394af",
   "metadata": {},
   "outputs": [
    {
     "data": {
      "text/plain": [
       "0.9982961029713294"
      ]
     },
     "execution_count": 12,
     "metadata": {},
     "output_type": "execute_result"
    }
   ],
   "source": [
    "from sklearn.neighbors import KNeighborsClassifier\n",
    "knn_model = KNeighborsClassifier(n_neighbors=int(K))\n",
    "knn_model.fit(xtrain,ytrain)\n",
    "knn_model.score(xtest,ytest)"
   ]
  },
  {
   "cell_type": "code",
   "execution_count": 13,
   "id": "ca4f6027",
   "metadata": {},
   "outputs": [
    {
     "name": "stdout",
     "output_type": "stream",
     "text": [
      "              precision    recall  f1-score   support\n",
      "\n",
      "        -1.0       1.00      1.00      1.00     42056\n",
      "         0.0       1.00      1.00      1.00    138441\n",
      "         1.0       1.00      1.00      1.00    134076\n",
      "\n",
      "    accuracy                           1.00    314573\n",
      "   macro avg       1.00      1.00      1.00    314573\n",
      "weighted avg       1.00      1.00      1.00    314573\n",
      "\n",
      "\n",
      "\n",
      "[[ 42056      0      0]\n",
      " [    14 138171    256]\n",
      " [     4    262 133810]]\n",
      "\n",
      "\n"
     ]
    },
    {
     "data": {
      "image/png": "[encoded data removed]",
      "text/plain": [
       "<Figure size 432x288 with 2 Axes>"
      ]
     },
     "metadata": {
      "needs_background": "light"
     },
     "output_type": "display_data"
    }
   ],
   "source": [
    "import matplotlib.pyplot as plt\n",
    "from sklearn.metrics import plot_confusion_matrix\n",
    "Pred = knn_model.predict(xtest)\n",
    "print(classification_report(ytest,Pred))\n",
    "plot_confusion_matrix(knn_model,xtest,ytest)\n",
    "print(\"\\n\")\n",
    "print(confusion_matrix(ytest,Pred))\n",
    "print(\"\\n\")"
   ]
  },
  {
   "cell_type": "code",
   "execution_count": 14,
   "id": "1c76af76",
   "metadata": {},
   "outputs": [
    {
     "name": "stderr",
     "output_type": "stream",
     "text": [
      "C:\\Users\\thobani_radebe\\Anaconda3\\lib\\site-packages\\seaborn\\distributions.py:2619: FutureWarning: `distplot` is a deprecated function and will be removed in a future version. Please adapt your code to use either `displot` (a figure-level function with similar flexibility) or `kdeplot` (an axes-level function for kernel density plots).\n",
      "  warnings.warn(msg, FutureWarning)\n",
      "C:\\Users\\thobani_radebe\\Anaconda3\\lib\\site-packages\\seaborn\\distributions.py:2619: FutureWarning: `distplot` is a deprecated function and will be removed in a future version. Please adapt your code to use either `displot` (a figure-level function with similar flexibility) or `kdeplot` (an axes-level function for kernel density plots).\n",
      "  warnings.warn(msg, FutureWarning)\n"
     ]
    },
    {
     "data": {
      "image/png": "[encoded data removed]",
      "text/plain": [
       "<Figure size 720x504 with 1 Axes>"
      ]
     },
     "metadata": {
      "needs_background": "light"
     },
     "output_type": "display_data"
    }
   ],
   "source": [
    "import seaborn as sns\n",
    "import matplotlib.pyplot as plt\n",
    "plt.figure(figsize=(10, 7))\n",
    "ax = sns.distplot(data.iloc[:,78], hist=False, color=\"r\", label=\"Actual Value\")\n",
    "sns.distplot(Pred, hist=False, color=\"b\", label=\"Predicted Values\", ax=ax)\n",
    "plt.title('Actual vs Precited value for outcome')\n",
    "plt.show()\n",
    "plt.close()"
   ]
  },
  {
   "cell_type": "code",
   "execution_count": null,
   "id": "4fb859a2",
   "metadata": {},
   "outputs": [],
   "source": []
  }
 ],
 "metadata": {
  "kernelspec": {
   "display_name": "Python 3 (ipykernel)",
   "language": "python",
   "name": "python3"
  },
  "language_info": {
   "codemirror_mode": {
    "name": "ipython",
    "version": 3
   },
   "file_extension": ".py",
   "mimetype": "text/x-python",
   "name": "python",
   "nbconvert_exporter": "python",
   "pygments_lexer": "ipython3",
   "version": "3.9.7"
  }
 },
 "nbformat": 4,
 "nbformat_minor": 5
}
